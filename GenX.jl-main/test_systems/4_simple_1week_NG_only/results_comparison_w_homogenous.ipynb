{
 "cells": [
  {
   "cell_type": "markdown",
   "metadata": {},
   "source": [
    "# This file automates the comparison between homogenous and heterogenous timesteps"
   ]
  },
  {
   "cell_type": "code",
   "execution_count": 1,
   "metadata": {},
   "outputs": [],
   "source": [
    "import pandas as pd\n",
    "import matplotlib.pyplot as plt\n",
    "import numpy as np\n",
    "import os\n",
    "import math"
   ]
  },
  {
   "cell_type": "code",
   "execution_count": 2,
   "metadata": {},
   "outputs": [],
   "source": [
    "\"\"\"\n",
    "Load all files from a given folder into a dictionary.\n",
    "For CSV files, the content is loaded as a pandas DataFrame.\n",
    "For other files, the content is read as plain text.\n",
    "The keys of the dictionary are filenames without extensions.\n",
    "\"\"\"\n",
    "def load_files(folder_path):\n",
    "    files_data = {}\n",
    "    \n",
    "    # List all files in the folder\n",
    "    for filename in os.listdir(folder_path):\n",
    "        file_path = os.path.join(folder_path, filename)\n",
    "        \n",
    "        # Check if it's a file (not a subdirectory)\n",
    "        if os.path.isfile(file_path):\n",
    "            # Remove file extension from the key name\n",
    "            file_key = os.path.splitext(filename)[0]\n",
    "            \n",
    "            # If the file is a CSV, load it as a DataFrame\n",
    "            if filename.endswith('.csv'):\n",
    "                files_data[file_key] = pd.read_csv(file_path)\n",
    "            else:\n",
    "                # For non-CSV files, read as plain text\n",
    "                with open(file_path, 'r', encoding='utf-8') as file:\n",
    "                    files_data[file_key] = file.read()\n",
    "    \n",
    "    return files_data\n",
    "\n",
    "def add_row(df, row_type, total_homogenous, total_heterogeneous):\n",
    "    # Calculate absolute and percentage difference\n",
    "    absolute_difference = total_homogenous - total_heterogeneous\n",
    "    percentage_difference = (absolute_difference / total_homogenous) * 100 if total_homogenous != 0 else 0\n",
    "\n",
    "    # Create a new row as a DataFrame with each value in a list\n",
    "    new_row = pd.DataFrame({\n",
    "        'type': [row_type],\n",
    "        'total_homogenous': [total_homogenous],\n",
    "        'total_heterogeneous': [total_heterogeneous],\n",
    "        'absolute_difference': [absolute_difference],\n",
    "        'percentage_decrease (HO->HE) (%)': [percentage_difference]\n",
    "    })\n",
    "\n",
    "    # Concatenate the new row to the DataFrame\n",
    "    df = pd.concat([df, new_row], ignore_index=True)\n",
    "    \n",
    "    return df\n"
   ]
  },
  {
   "cell_type": "code",
   "execution_count": 3,
   "metadata": {},
   "outputs": [],
   "source": [
    "####################### NEEED TO UPDATE MANUALLY PATH #######################\n",
    "\n",
    "#Step 1: Load results  \n",
    "heterogenous_results = load_files(r\"C:\\Users\\Diego\\GenX\\GenX.jl-main\\test_systems\\4_simple_1week_NG_only\\results_HE\")\n",
    "homogenous_results = load_files(r\"C:\\Users\\Diego\\GenX\\GenX.jl-main\\test_systems\\4_simple_1week_NG_only\\results_HO\")"
   ]
  },
  {
   "cell_type": "code",
   "execution_count": 4,
   "metadata": {},
   "outputs": [],
   "source": [
    "#Step 2: Create the dataframe containing major total results\n",
    "data = {\n",
    "    'type': [],\n",
    "    'total_homogenous': [],\n",
    "    'total_heterogeneous': [],\n",
    "    'absolute_difference': [],\n",
    "    'percentage_decrease (HO->HE) (%)': []\n",
    "}\n",
    "total_results = pd.DataFrame(data)"
   ]
  },
  {
   "cell_type": "code",
   "execution_count": 5,
   "metadata": {},
   "outputs": [],
   "source": [
    "#Step 3: Load the major total results from their files\n",
    "\n",
    "#Capacity\n",
    "for (index_ho, row_ho), (index_he, row_he) in zip(\n",
    "    homogenous_results['capacity'].loc[:, ['Resource', 'NewCap']].iterrows(), \n",
    "    heterogenous_results['capacity'].loc[:, ['Resource', 'NewCap']].iterrows()\n",
    "):\n",
    "    # Check if at least one of the 'Total' values is greater than zero\n",
    "    if row_ho['NewCap'] > 0 or row_he['NewCap'] > 0:\n",
    "        # Add the results to total_results\n",
    "        total_results = add_row(total_results, f\"Installed Capacity [MW]: {row_ho['Resource']}\", row_ho['NewCap'], row_he['NewCap'])\n",
    "                                \n",
    "# Costs\n",
    "for (index_ho, row_ho), (index_he, row_he) in zip(\n",
    "    homogenous_results['costs'].loc[:, 'Costs':'Total'].iterrows(), \n",
    "    heterogenous_results['costs'].loc[:, 'Costs':'Total'].iterrows()\n",
    "):\n",
    "    # Check if at least one of the 'Total' values is greater than zero\n",
    "    if row_ho['Total'] > 0 or row_he['Total'] > 0:\n",
    "        # Add the results to total_results\n",
    "        total_results = add_row(total_results, row_ho['Costs'], row_ho['Total'], row_he['Total'])\n",
    "\n",
    "\n",
    "#Power \n",
    "homogenous_annual_sum = homogenous_results['power'].loc[homogenous_results['power']['Resource'] == 'AnnualSum'].squeeze()\n",
    "heterogenous_annual_sum = heterogenous_results['power'].loc[heterogenous_results['power']['Resource'] == 'AnnualSum'].squeeze()\n",
    "\n",
    "# Iterate over columns in homogenous and heterogenous data\n",
    "for i, j in zip(homogenous_annual_sum.index[1:], heterogenous_annual_sum.index[1:]):  # Skip the first column (assumed to be 'Resource')\n",
    "    homogenous_value = homogenous_annual_sum[i]\n",
    "    heterogenous_value = heterogenous_annual_sum[j]\n",
    "    \n",
    "    # Check values and add row if both are greater than zero\n",
    "    if homogenous_value > 0 or heterogenous_value > 0:\n",
    "        total_results = add_row(total_results, f\"Power [MWh]: {j}\", homogenous_value, heterogenous_value)\n",
    "\n"
   ]
  },
  {
   "cell_type": "code",
   "execution_count": 6,
   "metadata": {},
   "outputs": [
    {
     "data": {
      "text/html": [
       "<div>\n",
       "<style scoped>\n",
       "    .dataframe tbody tr th:only-of-type {\n",
       "        vertical-align: middle;\n",
       "    }\n",
       "\n",
       "    .dataframe tbody tr th {\n",
       "        vertical-align: top;\n",
       "    }\n",
       "\n",
       "    .dataframe thead th {\n",
       "        text-align: right;\n",
       "    }\n",
       "</style>\n",
       "<table border=\"1\" class=\"dataframe\">\n",
       "  <thead>\n",
       "    <tr style=\"text-align: right;\">\n",
       "      <th></th>\n",
       "      <th>type</th>\n",
       "      <th>total_homogenous</th>\n",
       "      <th>total_heterogeneous</th>\n",
       "      <th>absolute_difference</th>\n",
       "      <th>percentage_decrease (HO-&gt;HE) (%)</th>\n",
       "    </tr>\n",
       "  </thead>\n",
       "  <tbody>\n",
       "    <tr>\n",
       "      <th>0</th>\n",
       "      <td>Installed Capacity [MW]: CT_natural_gas_combin...</td>\n",
       "      <td>1.277200e+04</td>\n",
       "      <td>1.277200e+04</td>\n",
       "      <td>0.000000e+00</td>\n",
       "      <td>0.000000e+00</td>\n",
       "    </tr>\n",
       "    <tr>\n",
       "      <th>1</th>\n",
       "      <td>Installed Capacity [MW]: Total</td>\n",
       "      <td>1.277200e+04</td>\n",
       "      <td>1.277200e+04</td>\n",
       "      <td>0.000000e+00</td>\n",
       "      <td>0.000000e+00</td>\n",
       "    </tr>\n",
       "    <tr>\n",
       "      <th>2</th>\n",
       "      <td>cTotal</td>\n",
       "      <td>1.027709e+09</td>\n",
       "      <td>1.027709e+09</td>\n",
       "      <td>3.576279e-07</td>\n",
       "      <td>3.479855e-14</td>\n",
       "    </tr>\n",
       "    <tr>\n",
       "      <th>3</th>\n",
       "      <td>cFix</td>\n",
       "      <td>9.591517e+08</td>\n",
       "      <td>9.591517e+08</td>\n",
       "      <td>0.000000e+00</td>\n",
       "      <td>0.000000e+00</td>\n",
       "    </tr>\n",
       "    <tr>\n",
       "      <th>4</th>\n",
       "      <td>cVar</td>\n",
       "      <td>5.775939e+06</td>\n",
       "      <td>5.775939e+06</td>\n",
       "      <td>9.313226e-10</td>\n",
       "      <td>1.612418e-14</td>\n",
       "    </tr>\n",
       "    <tr>\n",
       "      <th>5</th>\n",
       "      <td>cFuel</td>\n",
       "      <td>6.278138e+07</td>\n",
       "      <td>6.278138e+07</td>\n",
       "      <td>7.450581e-09</td>\n",
       "      <td>1.186750e-14</td>\n",
       "    </tr>\n",
       "    <tr>\n",
       "      <th>6</th>\n",
       "      <td>Power [MWh]: CT_natural_gas_combined_cycle</td>\n",
       "      <td>1.617910e+06</td>\n",
       "      <td>1.617910e+06</td>\n",
       "      <td>0.000000e+00</td>\n",
       "      <td>0.000000e+00</td>\n",
       "    </tr>\n",
       "    <tr>\n",
       "      <th>7</th>\n",
       "      <td>Power [MWh]: Total</td>\n",
       "      <td>1.617910e+06</td>\n",
       "      <td>1.617910e+06</td>\n",
       "      <td>0.000000e+00</td>\n",
       "      <td>0.000000e+00</td>\n",
       "    </tr>\n",
       "  </tbody>\n",
       "</table>\n",
       "</div>"
      ],
      "text/plain": [
       "                                                type  total_homogenous  \\\n",
       "0  Installed Capacity [MW]: CT_natural_gas_combin...      1.277200e+04   \n",
       "1                     Installed Capacity [MW]: Total      1.277200e+04   \n",
       "2                                             cTotal      1.027709e+09   \n",
       "3                                               cFix      9.591517e+08   \n",
       "4                                               cVar      5.775939e+06   \n",
       "5                                              cFuel      6.278138e+07   \n",
       "6         Power [MWh]: CT_natural_gas_combined_cycle      1.617910e+06   \n",
       "7                                 Power [MWh]: Total      1.617910e+06   \n",
       "\n",
       "   total_heterogeneous  absolute_difference  percentage_decrease (HO->HE) (%)  \n",
       "0         1.277200e+04         0.000000e+00                      0.000000e+00  \n",
       "1         1.277200e+04         0.000000e+00                      0.000000e+00  \n",
       "2         1.027709e+09         3.576279e-07                      3.479855e-14  \n",
       "3         9.591517e+08         0.000000e+00                      0.000000e+00  \n",
       "4         5.775939e+06         9.313226e-10                      1.612418e-14  \n",
       "5         6.278138e+07         7.450581e-09                      1.186750e-14  \n",
       "6         1.617910e+06         0.000000e+00                      0.000000e+00  \n",
       "7         1.617910e+06         0.000000e+00                      0.000000e+00  "
      ]
     },
     "execution_count": 6,
     "metadata": {},
     "output_type": "execute_result"
    }
   ],
   "source": [
    "total_results"
   ]
  },
  {
   "cell_type": "markdown",
   "metadata": {},
   "source": [
    "## Further analysis"
   ]
  },
  {
   "cell_type": "code",
   "execution_count": null,
   "metadata": {},
   "outputs": [],
   "source": [
    "cfuel_HE = pd.read_csv(r\"C:\\Users\\Diego\\GenX\\GenX.jl-main\\test_systems\\4_simple_1week_NG_only\\results_HE\\FuelConsumption_plant_MMBTU.csv\")\n",
    "cfuel_HO = pd.read_csv(r\"C:\\Users\\Diego\\GenX\\GenX.jl-main\\test_systems\\4_simple_1week_NG_only\\results_HO\\FuelConsumption_plant_MMBTU.csv\")"
   ]
  },
  {
   "cell_type": "code",
   "execution_count": 8,
   "metadata": {},
   "outputs": [
    {
     "data": {
      "text/plain": [
       "44.0"
      ]
     },
     "execution_count": 8,
     "metadata": {},
     "output_type": "execute_result"
    }
   ],
   "source": [
    "len(cfuel_HO)/2"
   ]
  },
  {
   "cell_type": "code",
   "execution_count": 9,
   "metadata": {},
   "outputs": [],
   "source": [
    "index_to_drop = []\n",
    "for i in range(int(len(cfuel_HO)/2)):\n",
    "    cfuel_H0_copy = cfuel_HO.copy(deep=True)\n",
    "\n",
    "    if i > 21:\n",
    "        cfuel_H0_copy.at[2*i, \"CT_natural_gas_combined_cycle\"] = cfuel_H0_copy.loc[2*i, \"CT_natural_gas_combined_cycle\"] + cfuel_H0_copy.loc[2*i+1, \"CT_natural_gas_combined_cycle\"]\n",
    "        index_to_drop.append(2*i+1)\n",
    "\n",
    "cfuel_H0_copy = cfuel_H0_copy.drop(index = index_to_drop)"
   ]
  },
  {
   "cell_type": "code",
   "execution_count": 10,
   "metadata": {},
   "outputs": [
    {
     "data": {
      "text/html": [
       "<div>\n",
       "<style scoped>\n",
       "    .dataframe tbody tr th:only-of-type {\n",
       "        vertical-align: middle;\n",
       "    }\n",
       "\n",
       "    .dataframe tbody tr th {\n",
       "        vertical-align: top;\n",
       "    }\n",
       "\n",
       "    .dataframe thead th {\n",
       "        text-align: right;\n",
       "    }\n",
       "</style>\n",
       "<table border=\"1\" class=\"dataframe\">\n",
       "  <thead>\n",
       "    <tr style=\"text-align: right;\">\n",
       "      <th></th>\n",
       "      <th>Resource</th>\n",
       "      <th>CT_natural_gas_combined_cycle</th>\n",
       "    </tr>\n",
       "  </thead>\n",
       "  <tbody>\n",
       "    <tr>\n",
       "      <th>86</th>\n",
       "      <td>t87</td>\n",
       "      <td>61210.64</td>\n",
       "    </tr>\n",
       "    <tr>\n",
       "      <th>87</th>\n",
       "      <td>t88</td>\n",
       "      <td>61210.64</td>\n",
       "    </tr>\n",
       "  </tbody>\n",
       "</table>\n",
       "</div>"
      ],
      "text/plain": [
       "   Resource  CT_natural_gas_combined_cycle\n",
       "86      t87                       61210.64\n",
       "87      t88                       61210.64"
      ]
     },
     "execution_count": 10,
     "metadata": {},
     "output_type": "execute_result"
    }
   ],
   "source": [
    "cfuel_HO.loc[86:, :]"
   ]
  },
  {
   "cell_type": "code",
   "execution_count": 11,
   "metadata": {},
   "outputs": [
    {
     "data": {
      "text/html": [
       "<div>\n",
       "<style scoped>\n",
       "    .dataframe tbody tr th:only-of-type {\n",
       "        vertical-align: middle;\n",
       "    }\n",
       "\n",
       "    .dataframe tbody tr th {\n",
       "        vertical-align: top;\n",
       "    }\n",
       "\n",
       "    .dataframe thead th {\n",
       "        text-align: right;\n",
       "    }\n",
       "</style>\n",
       "<table border=\"1\" class=\"dataframe\">\n",
       "  <thead>\n",
       "    <tr style=\"text-align: right;\">\n",
       "      <th></th>\n",
       "      <th>Resource</th>\n",
       "      <th>CT_natural_gas_combined_cycle</th>\n",
       "    </tr>\n",
       "  </thead>\n",
       "  <tbody>\n",
       "    <tr>\n",
       "      <th>65</th>\n",
       "      <td>t66</td>\n",
       "      <td>61210.64</td>\n",
       "    </tr>\n",
       "  </tbody>\n",
       "</table>\n",
       "</div>"
      ],
      "text/plain": [
       "   Resource  CT_natural_gas_combined_cycle\n",
       "65      t66                       61210.64"
      ]
     },
     "execution_count": 11,
     "metadata": {},
     "output_type": "execute_result"
    }
   ],
   "source": [
    "cfuel_HE.loc[65:, :]"
   ]
  },
  {
   "cell_type": "code",
   "execution_count": 12,
   "metadata": {},
   "outputs": [
    {
     "data": {
      "text/html": [
       "<div>\n",
       "<style scoped>\n",
       "    .dataframe tbody tr th:only-of-type {\n",
       "        vertical-align: middle;\n",
       "    }\n",
       "\n",
       "    .dataframe tbody tr th {\n",
       "        vertical-align: top;\n",
       "    }\n",
       "\n",
       "    .dataframe thead th {\n",
       "        text-align: right;\n",
       "    }\n",
       "</style>\n",
       "<table border=\"1\" class=\"dataframe\">\n",
       "  <thead>\n",
       "    <tr style=\"text-align: right;\">\n",
       "      <th></th>\n",
       "      <th>index</th>\n",
       "      <th>Resource</th>\n",
       "      <th>CT_natural_gas_combined_cycle</th>\n",
       "    </tr>\n",
       "  </thead>\n",
       "  <tbody>\n",
       "    <tr>\n",
       "      <th>0</th>\n",
       "      <td>0</td>\n",
       "      <td>t1</td>\n",
       "      <td>55892.00</td>\n",
       "    </tr>\n",
       "    <tr>\n",
       "      <th>1</th>\n",
       "      <td>1</td>\n",
       "      <td>t2</td>\n",
       "      <td>52858.88</td>\n",
       "    </tr>\n",
       "    <tr>\n",
       "      <th>2</th>\n",
       "      <td>2</td>\n",
       "      <td>t3</td>\n",
       "      <td>50601.84</td>\n",
       "    </tr>\n",
       "    <tr>\n",
       "      <th>3</th>\n",
       "      <td>3</td>\n",
       "      <td>t4</td>\n",
       "      <td>49462.64</td>\n",
       "    </tr>\n",
       "    <tr>\n",
       "      <th>4</th>\n",
       "      <td>4</td>\n",
       "      <td>t5</td>\n",
       "      <td>49284.64</td>\n",
       "    </tr>\n",
       "    <tr>\n",
       "      <th>...</th>\n",
       "      <td>...</td>\n",
       "      <td>...</td>\n",
       "      <td>...</td>\n",
       "    </tr>\n",
       "    <tr>\n",
       "      <th>61</th>\n",
       "      <td>78</td>\n",
       "      <td>t79</td>\n",
       "      <td>57479.76</td>\n",
       "    </tr>\n",
       "    <tr>\n",
       "      <th>62</th>\n",
       "      <td>80</td>\n",
       "      <td>t81</td>\n",
       "      <td>69320.32</td>\n",
       "    </tr>\n",
       "    <tr>\n",
       "      <th>63</th>\n",
       "      <td>82</td>\n",
       "      <td>t83</td>\n",
       "      <td>73193.60</td>\n",
       "    </tr>\n",
       "    <tr>\n",
       "      <th>64</th>\n",
       "      <td>84</td>\n",
       "      <td>t85</td>\n",
       "      <td>68622.56</td>\n",
       "    </tr>\n",
       "    <tr>\n",
       "      <th>65</th>\n",
       "      <td>86</td>\n",
       "      <td>t87</td>\n",
       "      <td>122421.28</td>\n",
       "    </tr>\n",
       "  </tbody>\n",
       "</table>\n",
       "<p>66 rows × 3 columns</p>\n",
       "</div>"
      ],
      "text/plain": [
       "    index Resource  CT_natural_gas_combined_cycle\n",
       "0       0       t1                       55892.00\n",
       "1       1       t2                       52858.88\n",
       "2       2       t3                       50601.84\n",
       "3       3       t4                       49462.64\n",
       "4       4       t5                       49284.64\n",
       "..    ...      ...                            ...\n",
       "61     78      t79                       57479.76\n",
       "62     80      t81                       69320.32\n",
       "63     82      t83                       73193.60\n",
       "64     84      t85                       68622.56\n",
       "65     86      t87                      122421.28\n",
       "\n",
       "[66 rows x 3 columns]"
      ]
     },
     "execution_count": 12,
     "metadata": {},
     "output_type": "execute_result"
    }
   ],
   "source": [
    "cfuel_H0_copy.reset_index()"
   ]
  },
  {
   "cell_type": "code",
   "execution_count": 13,
   "metadata": {},
   "outputs": [],
   "source": [
    "c_fuel = pd.DataFrame(cfuel_HE[\"CT_natural_gas_combined_cycle\"] - cfuel_H0_copy.reset_index()[\"CT_natural_gas_combined_cycle\"])"
   ]
  },
  {
   "cell_type": "code",
   "execution_count": 14,
   "metadata": {},
   "outputs": [
    {
     "data": {
      "text/html": [
       "<div>\n",
       "<style scoped>\n",
       "    .dataframe tbody tr th:only-of-type {\n",
       "        vertical-align: middle;\n",
       "    }\n",
       "\n",
       "    .dataframe tbody tr th {\n",
       "        vertical-align: top;\n",
       "    }\n",
       "\n",
       "    .dataframe thead th {\n",
       "        text-align: right;\n",
       "    }\n",
       "</style>\n",
       "<table border=\"1\" class=\"dataframe\">\n",
       "  <thead>\n",
       "    <tr style=\"text-align: right;\">\n",
       "      <th></th>\n",
       "      <th>CT_natural_gas_combined_cycle</th>\n",
       "    </tr>\n",
       "  </thead>\n",
       "  <tbody>\n",
       "    <tr>\n",
       "      <th>65</th>\n",
       "      <td>-61210.64</td>\n",
       "    </tr>\n",
       "  </tbody>\n",
       "</table>\n",
       "</div>"
      ],
      "text/plain": [
       "    CT_natural_gas_combined_cycle\n",
       "65                      -61210.64"
      ]
     },
     "execution_count": 14,
     "metadata": {},
     "output_type": "execute_result"
    }
   ],
   "source": [
    "c_fuel.query('CT_natural_gas_combined_cycle != 0')"
   ]
  }
 ],
 "metadata": {
  "kernelspec": {
   "display_name": "adaexam_old",
   "language": "python",
   "name": "adaexam_old"
  },
  "language_info": {
   "codemirror_mode": {
    "name": "ipython",
    "version": 3
   },
   "file_extension": ".py",
   "mimetype": "text/x-python",
   "name": "python",
   "nbconvert_exporter": "python",
   "pygments_lexer": "ipython3",
   "version": "3.11.5"
  }
 },
 "nbformat": 4,
 "nbformat_minor": 2
}
