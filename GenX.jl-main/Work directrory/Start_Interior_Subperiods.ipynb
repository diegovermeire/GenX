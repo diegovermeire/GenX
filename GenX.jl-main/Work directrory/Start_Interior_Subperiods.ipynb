{
 "cells": [
  {
   "cell_type": "code",
   "execution_count": 20,
   "metadata": {},
   "outputs": [
    {
     "name": "stdout",
     "output_type": "stream",
     "text": [
      " time index 2\n",
      " time index 4\n"
     ]
    }
   ],
   "source": [
    "# Initialize variables\n",
    "counter = 0  # Counter to track time steps\n",
    "status = 0  # 0 of if the end of a representative period had been reached, 1 otherwise\n",
    "START_SUBPERIODS = []  # List to store indices of time steps starting a subperiod\n",
    "INTERIOR_SUBPERIODS = []  # List to store indices of time steps not starting a subperiod\n",
    "T = 4 \n",
    "tot_time_indices = 5\n",
    "\n",
    "Rel_timesteps = [2, 1, 3, 2, 4]\n",
    "\n",
    "for t in range(tot_time_indices):  \n",
    "    counter += Rel_timesteps[t]\n",
    "    if counter == 1  or status == 0:\n",
    "        START_SUBPERIODS.append(t)  # Add to start subperiod list\n",
    "        status = 1\n",
    "    elif counter != 1 and counter <T:\n",
    "        INTERIOR_SUBPERIODS.append(t)  # Add to interior subperiod list\n",
    "    elif counter == T:\n",
    "        INTERIOR_SUBPERIODS.append(t)\n",
    "        counter = 0\n",
    "        status = 0\n",
    "    elif counter > T and status == 1:\n",
    "        INTERIOR_SUBPERIODS.append(t)\n",
    "        counter = 0\n",
    "        status = 0\n",
    "        print(\" time index\", t)\n",
    "    else:\n",
    "        print(\"Unexpected case\")\n"
   ]
  },
  {
   "cell_type": "code",
   "execution_count": 21,
   "metadata": {},
   "outputs": [
    {
     "data": {
      "text/plain": [
       "[0, 3]"
      ]
     },
     "execution_count": 21,
     "metadata": {},
     "output_type": "execute_result"
    }
   ],
   "source": [
    "START_SUBPERIODS"
   ]
  },
  {
   "cell_type": "code",
   "execution_count": 22,
   "metadata": {},
   "outputs": [
    {
     "data": {
      "text/plain": [
       "[1, 2, 4]"
      ]
     },
     "execution_count": 22,
     "metadata": {},
     "output_type": "execute_result"
    }
   ],
   "source": [
    "INTERIOR_SUBPERIODS"
   ]
  }
 ],
 "metadata": {
  "kernelspec": {
   "display_name": "adaexam_old",
   "language": "python",
   "name": "adaexam_old"
  },
  "language_info": {
   "codemirror_mode": {
    "name": "ipython",
    "version": 3
   },
   "file_extension": ".py",
   "mimetype": "text/x-python",
   "name": "python",
   "nbconvert_exporter": "python",
   "pygments_lexer": "ipython3",
   "version": "3.11.5"
  }
 },
 "nbformat": 4,
 "nbformat_minor": 2
}
