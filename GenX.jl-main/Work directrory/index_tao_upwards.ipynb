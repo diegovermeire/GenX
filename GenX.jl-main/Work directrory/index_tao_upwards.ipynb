{
 "cells": [
  {
   "cell_type": "code",
   "execution_count": 1,
   "metadata": {},
   "outputs": [],
   "source": [
    "def index_toa_upwards(current_t, Rel_TimeStep, tao_up):\n",
    "    tao_tot = 0\n",
    "    upward_index = 0\n",
    "\n",
    "    # Iterate forwards from current_t\n",
    "    for t in range(current_t, len(Rel_TimeStep)):  # Adjust index (Python is 0-based)\n",
    "        # Get the value from inputs[\"Rel_TimeStep\"][t]\n",
    "        rel_timestep = Rel_TimeStep[t]\n",
    "        #if current_t is a heterogenous timestep\n",
    "        if t == current_t:\n",
    "            rel_timestep = rel_timestep - 1\n",
    "\n",
    "        # Check if tao_tot + rel_timestep is less than tao_up\n",
    "        if tao_tot + rel_timestep < tao_up:\n",
    "            # Add to tao_tot if condition is satisfied\n",
    "            tao_tot += rel_timestep\n",
    "            upward_index += 1\n",
    "        else:\n",
    "            # Return the index where the condition was not satisfied\n",
    "            return upward_index\n",
    "\n",
    "    return upward_index  # Return the last index if tao_up is never exceeded"
   ]
  },
  {
   "cell_type": "code",
   "execution_count": 2,
   "metadata": {},
   "outputs": [
    {
     "data": {
      "text/plain": [
       "2"
      ]
     },
     "execution_count": 2,
     "metadata": {},
     "output_type": "execute_result"
    }
   ],
   "source": [
    "Rel_TimeStep = [1, 2, 3, 4]\n",
    "current_t = 1\n",
    "\n",
    "index_toa_upwards(current_t, Rel_TimeStep, 5)"
   ]
  }
 ],
 "metadata": {
  "kernelspec": {
   "display_name": "adaexam_old",
   "language": "python",
   "name": "adaexam_old"
  },
  "language_info": {
   "codemirror_mode": {
    "name": "ipython",
    "version": 3
   },
   "file_extension": ".py",
   "mimetype": "text/x-python",
   "name": "python",
   "nbconvert_exporter": "python",
   "pygments_lexer": "ipython3",
   "version": "3.11.5"
  }
 },
 "nbformat": 4,
 "nbformat_minor": 2
}
